{
 "cells": [
  {
   "cell_type": "markdown",
   "id": "09d0f4a3",
   "metadata": {},
   "source": [
    "## Pytorch Notebook on MNIST Dataset\n",
    "### Objective of this Notebook : \n",
    "Main objective of this notebook is to use pytorch and predict the number from the MNIST dataset image. \n",
    "\n",
    "### MNIST Information\n",
    "*   A collection of grayscale images of handwritten digits (0-9).\n",
    "*   Each image is 28 pixels wide and 28 pixels high (28x28).\n",
    "*   There are 60,000 training images and 10,000 test images.\n",
    "*   Each image is labeled with the corresponding digit (0-9)."
   ]
  },
  {
   "cell_type": "markdown",
   "id": "a0043a19",
   "metadata": {},
   "source": [
    "### Step 1 : Import All the necessary Library "
   ]
  },
  {
   "cell_type": "code",
   "execution_count": 247,
   "id": "a0d75f57",
   "metadata": {},
   "outputs": [],
   "source": [
    "import torch\n",
    "import torch.nn as nn\n",
    "import torch.nn.functional as F\n",
    "from torch.utils.data import DataLoader\n",
    "from torchvision import datasets, transforms\n",
    "from torchvision.utils import make_grid\n",
    "\n",
    "\n",
    "import numpy as np\n",
    "import pandas as pd\n",
    "from sklearn.metrics import confusion_matrix\n",
    "import matplotlib.pyplot as plt\n",
    "%matplotlib inline"
   ]
  },
  {
   "cell_type": "markdown",
   "id": "a47c20b0",
   "metadata": {},
   "source": [
    "### Step 2 : Create transform\n",
    "- Convert MNIST Image Files into a Tensor of 4-Dimensions ((batch size of images, Height, Width, Color Channel))\n",
    "- We will use later to convert the image into tensor"
   ]
  },
  {
   "cell_type": "code",
   "execution_count": 248,
   "id": "c266efa3",
   "metadata": {},
   "outputs": [],
   "source": [
    "transform = transforms.ToTensor()"
   ]
  },
  {
   "cell_type": "markdown",
   "id": "e4a1b57f",
   "metadata": {},
   "source": [
    "### Step 3 : Get the Train and Test Data "
   ]
  },
  {
   "cell_type": "code",
   "execution_count": 249,
   "id": "758021b2",
   "metadata": {},
   "outputs": [],
   "source": [
    "# Train  Data  --> If the train data is not there it will donwload the data\n",
    "train_Data = datasets.MNIST(root=r'MNIST', train=True, download=True, transform=transform)\n",
    "\n",
    "# Test  Data   --> If the test data is not there it will download the data\n",
    "test_Data = datasets.MNIST(root=r'MNIST', train=False, download=True, transform=transform)"
   ]
  },
  {
   "cell_type": "code",
   "execution_count": 250,
   "id": "45898465",
   "metadata": {},
   "outputs": [
    {
     "data": {
      "text/plain": [
       "(Dataset MNIST\n",
       "     Number of datapoints: 60000\n",
       "     Root location: MNIST\n",
       "     Split: Train\n",
       "     StandardTransform\n",
       " Transform: ToTensor(),\n",
       " Dataset MNIST\n",
       "     Number of datapoints: 10000\n",
       "     Root location: MNIST\n",
       "     Split: Test\n",
       "     StandardTransform\n",
       " Transform: ToTensor())"
      ]
     },
     "execution_count": 250,
     "metadata": {},
     "output_type": "execute_result"
    }
   ],
   "source": [
    "# Check the training / testing data exist or not \n",
    "train_Data, test_Data"
   ]
  },
  {
   "cell_type": "markdown",
   "id": "a506d9ec",
   "metadata": {},
   "source": [
    "### Step 4 : Load Training Data and Testing data in batches"
   ]
  },
  {
   "cell_type": "code",
   "execution_count": 251,
   "id": "ff9a80b3",
   "metadata": {},
   "outputs": [],
   "source": [
    "# Create a small batch size for images.... let's say 10  --> 60,000 image will be divide into 10 batches where each batch will have 6000 images\n",
    "# With this method will load load the images in the set of 10 --> 10,000 image will be divide into 10 batches where each batch will have 1000 images\n",
    "\n",
    "train_loader = DataLoader(train_Data, batch_size=10, shuffle=False)\n",
    "test_loader = DataLoader(test_Data, batch_size=10, shuffle=False)"
   ]
  },
  {
   "cell_type": "markdown",
   "id": "243db6f1",
   "metadata": {},
   "source": [
    "### Step 5 : Create Convolution Neural Neteork Model Class as per our need"
   ]
  },
  {
   "cell_type": "code",
   "execution_count": 252,
   "id": "7aec04c1",
   "metadata": {},
   "outputs": [],
   "source": [
    "#Model Class\n",
    "class ConvolutionalNetwork(nn.Module):\n",
    "    def __init__(self):\n",
    "        super().__init__()\n",
    "        self.conv1 = nn.Conv2d(1, 6, 3, 1)     # Convoution Layer 1\n",
    "        self.conv2 = nn.Conv2d(6, 16, 3, 1)    # Convolution Layer 2\n",
    "\n",
    "        # Fully Connected layer\n",
    "        self.fc1 = nn.Linear(5*5*16, 120)      # Fully Connected Layer 1 \n",
    "        self.fc2 = nn.Linear(120, 84)          # Fully Connected Layer 2 \n",
    "        self.fc3 = nn.Linear(84, 10)           # Fully Connected Layer 3 \n",
    "\n",
    "    def forward(self,X):\n",
    "        #First Pass\n",
    "        X = F.relu(self.conv1(X))\n",
    "        X = F.max_pool2d(X, 2, 2)               # 2x2 kernal and strikde 2\n",
    "\n",
    "        #Second Pass\n",
    "        X = F.relu(self.conv2(X))\n",
    "        X = F.max_pool2d(X, 2, 2)              # 2x2 kernal and strikde 2\n",
    "\n",
    "        #Re-view to flatenn i out \n",
    "        X = X.view(-1, 16*5*5)                 \n",
    "\n",
    "        # Fully Connected layers\n",
    "        X = F.relu(self.fc1(X))\n",
    "        X = F.relu(self.fc2(X))\n",
    "        X = self.fc3(X)\n",
    "        return F.log_softmax(X, dim=1)         # Return a single dimensional array \n"
   ]
  },
  {
   "cell_type": "markdown",
   "id": "f30d5448",
   "metadata": {},
   "source": [
    "### Step 6 : Feed the Manual Seet and Create a instance of our Convoution class"
   ]
  },
  {
   "cell_type": "code",
   "execution_count": 253,
   "id": "0de4305a",
   "metadata": {},
   "outputs": [
    {
     "data": {
      "text/plain": [
       "ConvolutionalNetwork(\n",
       "  (conv1): Conv2d(1, 6, kernel_size=(3, 3), stride=(1, 1))\n",
       "  (conv2): Conv2d(6, 16, kernel_size=(3, 3), stride=(1, 1))\n",
       "  (fc1): Linear(in_features=400, out_features=120, bias=True)\n",
       "  (fc2): Linear(in_features=120, out_features=84, bias=True)\n",
       "  (fc3): Linear(in_features=84, out_features=10, bias=True)\n",
       ")"
      ]
     },
     "execution_count": 253,
     "metadata": {},
     "output_type": "execute_result"
    }
   ],
   "source": [
    "# Create an instance of our model\n",
    "torch.manual_seed(41)\n",
    "model = ConvolutionalNetwork()\n",
    "model"
   ]
  },
  {
   "cell_type": "markdown",
   "id": "7bc333fc",
   "metadata": {},
   "source": [
    "### Step 7 : Define the Loss Function and Optimizer"
   ]
  },
  {
   "cell_type": "code",
   "execution_count": 254,
   "id": "6ddb8e62",
   "metadata": {},
   "outputs": [],
   "source": [
    "# Loss Function  and Optimizer\n",
    "criterion = nn.CrossEntropyLoss()\n",
    "optimizer = torch.optim.Adam(model.parameters(), lr = 0.02) "
   ]
  },
  {
   "cell_type": "markdown",
   "id": "84bb57c2",
   "metadata": {},
   "source": [
    "### Step 8 : Training"
   ]
  },
  {
   "cell_type": "code",
   "execution_count": 255,
   "id": "f5f0ddd8",
   "metadata": {},
   "outputs": [
    {
     "name": "stdout",
     "output_type": "stream",
     "text": [
      "Epcoh 0 Batch 600,  Loss : 0.3953811526298523\n",
      "Epcoh 0 Batch 1200,  Loss : 2.2983362674713135\n",
      "Epcoh 0 Batch 1800,  Loss : 0.3525587320327759\n",
      "Epcoh 0 Batch 2400,  Loss : 0.3160993158817291\n",
      "Epcoh 0 Batch 3000,  Loss : 1.1719518899917603\n",
      "Epcoh 0 Batch 3600,  Loss : 0.18183089792728424\n",
      "Epcoh 0 Batch 4200,  Loss : 1.3788342475891113\n",
      "Epcoh 0 Batch 4800,  Loss : 0.1993766725063324\n",
      "Epcoh 0 Batch 5400,  Loss : 1.0632028579711914\n",
      "Epcoh 0 Batch 6000,  Loss : 0.004598821513354778\n",
      "Epcoh 1 Batch 600,  Loss : 0.29840993881225586\n",
      "Epcoh 1 Batch 1200,  Loss : 0.5844177007675171\n",
      "Epcoh 1 Batch 1800,  Loss : 0.24518613517284393\n",
      "Epcoh 1 Batch 2400,  Loss : 0.2506410777568817\n",
      "Epcoh 1 Batch 3000,  Loss : 0.23158955574035645\n",
      "Epcoh 1 Batch 3600,  Loss : 0.48452964425086975\n",
      "Epcoh 1 Batch 4200,  Loss : 1.013604760169983\n",
      "Epcoh 1 Batch 4800,  Loss : 0.012272088788449764\n",
      "Epcoh 1 Batch 5400,  Loss : 0.8106330633163452\n",
      "Epcoh 1 Batch 6000,  Loss : 0.01768486760556698\n",
      "Epcoh 2 Batch 600,  Loss : 0.14788086712360382\n",
      "Epcoh 2 Batch 1200,  Loss : 1.165428876876831\n",
      "Epcoh 2 Batch 1800,  Loss : 0.6351941823959351\n",
      "Epcoh 2 Batch 2400,  Loss : 0.12208238989114761\n",
      "Epcoh 2 Batch 3000,  Loss : 0.9075751304626465\n",
      "Epcoh 2 Batch 3600,  Loss : 0.24198968708515167\n",
      "Epcoh 2 Batch 4200,  Loss : 0.4019473195075989\n",
      "Epcoh 2 Batch 4800,  Loss : 0.010063805617392063\n",
      "Epcoh 2 Batch 5400,  Loss : 0.6267872452735901\n",
      "Epcoh 2 Batch 6000,  Loss : 0.004210442304611206\n",
      "Epcoh 3 Batch 600,  Loss : 0.015677910298109055\n",
      "Epcoh 3 Batch 1200,  Loss : 1.0812734365463257\n",
      "Epcoh 3 Batch 1800,  Loss : 0.23412087559700012\n",
      "Epcoh 3 Batch 2400,  Loss : 0.20856742560863495\n",
      "Epcoh 3 Batch 3000,  Loss : 0.5574952363967896\n",
      "Epcoh 3 Batch 3600,  Loss : 0.0795985609292984\n",
      "Epcoh 3 Batch 4200,  Loss : 1.2892122268676758\n",
      "Epcoh 3 Batch 4800,  Loss : 0.05707584694027901\n",
      "Epcoh 3 Batch 5400,  Loss : 1.3528944253921509\n",
      "Epcoh 3 Batch 6000,  Loss : 0.32433006167411804\n",
      "Epcoh 4 Batch 600,  Loss : 0.04783281311392784\n",
      "Epcoh 4 Batch 1200,  Loss : 0.36193445324897766\n",
      "Epcoh 4 Batch 1800,  Loss : 0.0344969816505909\n",
      "Epcoh 4 Batch 2400,  Loss : 0.35967615246772766\n",
      "Epcoh 4 Batch 3000,  Loss : 0.4878365993499756\n",
      "Epcoh 4 Batch 3600,  Loss : 0.0468420535326004\n",
      "Epcoh 4 Batch 4200,  Loss : 1.5103261470794678\n",
      "Epcoh 4 Batch 4800,  Loss : 0.006497420370578766\n",
      "Epcoh 4 Batch 5400,  Loss : 0.3969396650791168\n",
      "Epcoh 4 Batch 6000,  Loss : 0.03236682340502739\n",
      "Training took : 2.8300007541974384 minutes\n"
     ]
    }
   ],
   "source": [
    "import time\n",
    "start_time = time.time()\n",
    "\n",
    "epochs = 5\n",
    "train_losses = []\n",
    "test_losses = []\n",
    "train_correct = []\n",
    "test_correct = []\n",
    "\n",
    "\n",
    "# For loops of epochs\n",
    "for i in range(epochs):\n",
    "    trn_corr = 0\n",
    "    test_corr = 0\n",
    "    batch_corr = 0\n",
    "\n",
    "    #Train \n",
    "    for b, (X_train, y_train) in enumerate(train_loader):\n",
    "        b+=1 \n",
    "        y_pred = model(X_train) \n",
    "        loss = criterion(y_pred, y_train)\n",
    "        prdicted = torch.max(y_pred, 1)[1] \n",
    "        bach_corr = (prdicted == y_train).sum()\n",
    "        trn_corr += batch_corr \n",
    "    \n",
    "        optimizer.zero_grad()\n",
    "        loss.backward()\n",
    "        optimizer.step()\n",
    "\n",
    "        if b%600 == 0:\n",
    "            print(f\"Epcoh {i} Batch {b},  Loss : {loss.item()}\")\n",
    "    \n",
    "\n",
    "    train_losses.append(loss)\n",
    "    train_correct.append(trn_corr)\n",
    "\n",
    "    #Test , Remove teh gradient because we do not need to update teh weights and biases \n",
    "    with torch.no_grad(): \n",
    "        for b, (X_test, y_test) in enumerate(test_loader):\n",
    "            y_val = model(X_test)\n",
    "            predicted = torch.max(y_val.data, 1)[1] \n",
    "            test_corr += (predicted == y_test).sum() \n",
    "            loss = criterion(y_val, y_test)\n",
    "\n",
    "        test_losses.append(loss)\n",
    "        test_correct.append(test_corr)\n",
    "\n",
    "current_time = time.time()\n",
    "total = current_time-start_time\n",
    "print(f\"Training took : {total/60} minutes\")"
   ]
  },
  {
   "cell_type": "markdown",
   "id": "395d9a0e",
   "metadata": {},
   "source": [
    "### Optional : the number of capture training losses and test losses"
   ]
  },
  {
   "cell_type": "code",
   "execution_count": 256,
   "id": "d51419ab",
   "metadata": {},
   "outputs": [
    {
     "name": "stdout",
     "output_type": "stream",
     "text": [
      "Train losses: 5, Test losses: 5\n"
     ]
    },
    {
     "data": {
      "text/plain": [
       "([tensor(0.0046, grad_fn=<NllLossBackward0>),\n",
       "  tensor(0.0177, grad_fn=<NllLossBackward0>),\n",
       "  tensor(0.0042, grad_fn=<NllLossBackward0>),\n",
       "  tensor(0.3243, grad_fn=<NllLossBackward0>),\n",
       "  tensor(0.0324, grad_fn=<NllLossBackward0>)],\n",
       " [tensor(0.0839),\n",
       "  tensor(0.4629),\n",
       "  tensor(0.4292),\n",
       "  tensor(0.0374),\n",
       "  tensor(0.2945)])"
      ]
     },
     "execution_count": 256,
     "metadata": {},
     "output_type": "execute_result"
    }
   ],
   "source": [
    "print(f\"Train losses: {len(train_losses)}, Test losses: {len(test_losses)}\")\n",
    "train_losses, test_losses"
   ]
  },
  {
   "cell_type": "markdown",
   "id": "0322ea6b",
   "metadata": {},
   "source": [
    "### Optional : Draw the Training and Validation loss"
   ]
  },
  {
   "cell_type": "code",
   "execution_count": 257,
   "id": "5e91951f",
   "metadata": {},
   "outputs": [
    {
     "data": {
      "text/plain": [
       "<matplotlib.legend.Legend at 0x1ae3e9c5310>"
      ]
     },
     "execution_count": 257,
     "metadata": {},
     "output_type": "execute_result"
    },
    {
     "data": {
      "image/png": "[encoded data removed]",
      "text/plain": [
       "<Figure size 640x480 with 1 Axes>"
      ]
     },
     "metadata": {},
     "output_type": "display_data"
    }
   ],
   "source": [
    "train_losses = [tl.item() for tl in train_losses]\n",
    "test_losses = [tl.item() for tl in test_losses]\n",
    "\n",
    "# Graph the loss at epoch\n",
    "plt.plot(train_losses, label=\"Training Loss\")\n",
    "plt.plot(test_losses, label=\"Validation Loss\")\n",
    "plt.title(\"Loss at Epoch\")\n",
    "plt.legend()"
   ]
  },
  {
   "cell_type": "markdown",
   "id": "733ed4db",
   "metadata": {},
   "source": [
    "### Optional : Draw the Training and Validation Accuracy "
   ]
  },
  {
   "cell_type": "code",
   "execution_count": 258,
   "id": "fd9696b0",
   "metadata": {},
   "outputs": [
    {
     "data": {
      "text/plain": [
       "<matplotlib.legend.Legend at 0x1ae3ea0d6d0>"
      ]
     },
     "execution_count": 258,
     "metadata": {},
     "output_type": "execute_result"
    },
    {
     "data": {
      "image/png": "[encoded data removed]",
      "text/plain": [
       "<Figure size 640x480 with 1 Axes>"
      ]
     },
     "metadata": {},
     "output_type": "display_data"
    }
   ],
   "source": [
    "# Graph the accuracy at the end of the each epoch\n",
    "plt.plot([t/600 for t in train_correct], label=\"Traning Accuracy\")\n",
    "plt.plot([t/100 for t in test_correct], label =\"Validation Accuracy\")\n",
    "plt.title(\"Accuracy at the end of each Epoch\")\n",
    "plt.legend()"
   ]
  },
  {
   "cell_type": "markdown",
   "id": "c0dc1819",
   "metadata": {},
   "source": [
    "### Optional : Check the how many correct result we get when we apply our CNN Model test data"
   ]
  },
  {
   "cell_type": "code",
   "execution_count": 259,
   "id": "1ba7a9d6",
   "metadata": {},
   "outputs": [
    {
     "data": {
      "text/plain": [
       "8977"
      ]
     },
     "execution_count": 259,
     "metadata": {},
     "output_type": "execute_result"
    }
   ],
   "source": [
    "## Load the test data \n",
    "test_load_everthing = DataLoader(test_Data, batch_size=100, shuffle=False)\n",
    "with torch.no_grad():\n",
    "\tcorrect = 0\n",
    "\tfor X_test, y_test in test_load_everthing:\n",
    "\t\ty_val = model(X_test)\n",
    "\t\tpredicted = torch.max(y_val, 1)[1]\n",
    "\t\tcorrect += (predicted == y_test).sum()\n",
    "\n",
    "correct.item()"
   ]
  },
  {
   "cell_type": "markdown",
   "id": "624c7b94",
   "metadata": {},
   "source": [
    "### Optional : Test our model with data and check manually by code only "
   ]
  },
  {
   "cell_type": "code",
   "execution_count": 260,
   "id": "ebb0162a",
   "metadata": {},
   "outputs": [
    {
     "data": {
      "text/plain": [
       "<matplotlib.image.AxesImage at 0x1ae3ea89810>"
      ]
     },
     "execution_count": 260,
     "metadata": {},
     "output_type": "execute_result"
    },
    {
     "data": {
      "image/png": "[encoded data removed]",
      "text/plain": [
       "<Figure size 640x480 with 1 Axes>"
      ]
     },
     "metadata": {},
     "output_type": "display_data"
    }
   ],
   "source": [
    "# Grab an image which is at index 100 in test_Data\n",
    "    # This image will contain label but to test our model we do not need label so will modify\n",
    "test_Data[100] \n",
    "\n",
    "\n",
    "# This way we will get tensor  without label\n",
    "test_Data[100][0]\n",
    "\n",
    "\n",
    "#Reshape it into 28 by 28 pixel size\n",
    "test_Data[100][0].reshape(28, 28)\n",
    "\n",
    "# Reshape the iamge and visualize \n",
    "    # If we visualize we no need to old step because to check the image we already reshape insideplt.imshow()\n",
    "plt.imshow(test_Data[100][0].reshape(28, 28))"
   ]
  },
  {
   "cell_type": "code",
   "execution_count": 261,
   "id": "30330618",
   "metadata": {},
   "outputs": [
    {
     "data": {
      "text/plain": [
       "tensor(6)"
      ]
     },
     "execution_count": 261,
     "metadata": {},
     "output_type": "execute_result"
    }
   ],
   "source": [
    "# As we already see at test_Data[100] have label 6 now we will predict with our trained model.\n",
    "model.eval()\n",
    "with torch.no_grad():\n",
    "\tnew_prediction = model(test_Data[100][0].view(1, 1, 28, 28)) \n",
    "\n",
    "## This will give the bigged tensor amound the data\n",
    "new_prediction.argmax()"
   ]
  },
  {
   "cell_type": "code",
   "execution_count": null,
   "id": "80a6768d",
   "metadata": {},
   "outputs": [],
   "source": []
  }
 ],
 "metadata": {
  "kernelspec": {
   "display_name": "Python 3",
   "language": "python",
   "name": "python3"
  },
  "language_info": {
   "codemirror_mode": {
    "name": "ipython",
    "version": 3
   },
   "file_extension": ".py",
   "mimetype": "text/x-python",
   "name": "python",
   "nbconvert_exporter": "python",
   "pygments_lexer": "ipython3",
   "version": "3.13.2"
  }
 },
 "nbformat": 4,
 "nbformat_minor": 5
}

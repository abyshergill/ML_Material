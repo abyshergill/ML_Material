{
 "cells": [
  {
   "cell_type": "code",
   "execution_count": 47,
   "id": "1ba37546",
   "metadata": {},
   "outputs": [],
   "source": [
    "# Simple NeuralNetwork"
   ]
  },
  {
   "cell_type": "code",
   "execution_count": 48,
   "id": "af7e8ade",
   "metadata": {},
   "outputs": [],
   "source": [
    "# Torch is base module for pytorch\n",
    "# NN is for neural network\n",
    "# F is responsible each forward function in pytorch\n",
    "\n",
    "import torch\n",
    "import torch.nn as nn\n",
    "import torch.nn. functional as F "
   ]
  },
  {
   "cell_type": "code",
   "execution_count": 49,
   "id": "b1fd873d",
   "metadata": {},
   "outputs": [],
   "source": [
    "#Create a model Class that inherits nn.Module\n",
    "class Model(nn.Module):\n",
    "\n",
    "    # Input layer ( 4 features of  the flower) --> \n",
    "    # Hidden layer1 (NUmber of neuron) --> \n",
    "    # Hidden layer2 (number of neurons) --> \n",
    "    # H2 (n) --> \n",
    "    # Output ( 3 classes of iris flowers)\n",
    "\n",
    "    def __init__(self, in_features = 4, h1=8, h2=9, out_features=3):\n",
    "        super().__init__()\n",
    "        self.fc1 = nn.Linear(in_features, h1)           # Here fc stands for fully connected layer \n",
    "        self.fc2 = nn.Linear(h1, h2)                    # Note OUt of one layer will be input of second layer\n",
    "        self.out = nn.Linear(h2, out_features)\n",
    "\n",
    "    def forward(self, x):\n",
    "        x = F.relu(self.fc1(x))                         # relu stands for Rectified Linear Units\n",
    "        x = F.relu(self.fc2(x))              \n",
    "        x = self.out(x)\n",
    "\n",
    "        return x"
   ]
  },
  {
   "cell_type": "code",
   "execution_count": 50,
   "id": "aff26ca5",
   "metadata": {},
   "outputs": [],
   "source": [
    "# Pick a manual seed for randomization --> So we get the approximate same start\n",
    "\n",
    "torch.manual_seed(41)\n",
    "model = Model()"
   ]
  },
  {
   "cell_type": "code",
   "execution_count": 51,
   "id": "9daedc29",
   "metadata": {},
   "outputs": [],
   "source": [
    "# Import pandas for data manupulation\n",
    "# Matplotlib fro draw the graph\n",
    "\n",
    "import pandas as pd\n",
    "import matplotlib.pyplot as plt\n",
    "%matplotlib inline"
   ]
  },
  {
   "cell_type": "code",
   "execution_count": 52,
   "id": "686cdbef",
   "metadata": {},
   "outputs": [
    {
     "data": {
      "text/html": [
       "<div>\n",
       "<style scoped>\n",
       "    .dataframe tbody tr th:only-of-type {\n",
       "        vertical-align: middle;\n",
       "    }\n",
       "\n",
       "    .dataframe tbody tr th {\n",
       "        vertical-align: top;\n",
       "    }\n",
       "\n",
       "    .dataframe thead th {\n",
       "        text-align: right;\n",
       "    }\n",
       "</style>\n",
       "<table border=\"1\" class=\"dataframe\">\n",
       "  <thead>\n",
       "    <tr style=\"text-align: right;\">\n",
       "      <th></th>\n",
       "      <th>sepal_length</th>\n",
       "      <th>sepal_width</th>\n",
       "      <th>petal_length</th>\n",
       "      <th>petal_width</th>\n",
       "      <th>species</th>\n",
       "    </tr>\n",
       "  </thead>\n",
       "  <tbody>\n",
       "    <tr>\n",
       "      <th>0</th>\n",
       "      <td>5.1</td>\n",
       "      <td>3.5</td>\n",
       "      <td>1.4</td>\n",
       "      <td>0.2</td>\n",
       "      <td>setosa</td>\n",
       "    </tr>\n",
       "    <tr>\n",
       "      <th>1</th>\n",
       "      <td>4.9</td>\n",
       "      <td>3.0</td>\n",
       "      <td>1.4</td>\n",
       "      <td>0.2</td>\n",
       "      <td>setosa</td>\n",
       "    </tr>\n",
       "    <tr>\n",
       "      <th>2</th>\n",
       "      <td>4.7</td>\n",
       "      <td>3.2</td>\n",
       "      <td>1.3</td>\n",
       "      <td>0.2</td>\n",
       "      <td>setosa</td>\n",
       "    </tr>\n",
       "    <tr>\n",
       "      <th>3</th>\n",
       "      <td>4.6</td>\n",
       "      <td>3.1</td>\n",
       "      <td>1.5</td>\n",
       "      <td>0.2</td>\n",
       "      <td>setosa</td>\n",
       "    </tr>\n",
       "    <tr>\n",
       "      <th>4</th>\n",
       "      <td>5.0</td>\n",
       "      <td>3.6</td>\n",
       "      <td>1.4</td>\n",
       "      <td>0.2</td>\n",
       "      <td>setosa</td>\n",
       "    </tr>\n",
       "  </tbody>\n",
       "</table>\n",
       "</div>"
      ],
      "text/plain": [
       "   sepal_length  sepal_width  petal_length  petal_width species\n",
       "0           5.1          3.5           1.4          0.2  setosa\n",
       "1           4.9          3.0           1.4          0.2  setosa\n",
       "2           4.7          3.2           1.3          0.2  setosa\n",
       "3           4.6          3.1           1.5          0.2  setosa\n",
       "4           5.0          3.6           1.4          0.2  setosa"
      ]
     },
     "execution_count": 52,
     "metadata": {},
     "output_type": "execute_result"
    }
   ],
   "source": [
    "# Load the iris dataset\n",
    "\n",
    "my_df = pd.read_csv('iris.csv')\n",
    "my_df.head()                          # .head() to get the top rows from the dataset"
   ]
  },
  {
   "cell_type": "code",
   "execution_count": 53,
   "id": "4cf2e527",
   "metadata": {},
   "outputs": [
    {
     "name": "stderr",
     "output_type": "stream",
     "text": [
      "C:\\Users\\LC270900\\AppData\\Local\\Temp\\ipykernel_14852\\2520636152.py:6: FutureWarning: Downcasting behavior in `replace` is deprecated and will be removed in a future version. To retain the old behavior, explicitly call `result.infer_objects(copy=False)`. To opt-in to the future behavior, set `pd.set_option('future.no_silent_downcasting', True)`\n",
      "  my_df['species'] = my_df['species'].replace('virginica', 2.0)\n"
     ]
    },
    {
     "data": {
      "text/html": [
       "<div>\n",
       "<style scoped>\n",
       "    .dataframe tbody tr th:only-of-type {\n",
       "        vertical-align: middle;\n",
       "    }\n",
       "\n",
       "    .dataframe tbody tr th {\n",
       "        vertical-align: top;\n",
       "    }\n",
       "\n",
       "    .dataframe thead th {\n",
       "        text-align: right;\n",
       "    }\n",
       "</style>\n",
       "<table border=\"1\" class=\"dataframe\">\n",
       "  <thead>\n",
       "    <tr style=\"text-align: right;\">\n",
       "      <th></th>\n",
       "      <th>sepal_length</th>\n",
       "      <th>sepal_width</th>\n",
       "      <th>petal_length</th>\n",
       "      <th>petal_width</th>\n",
       "      <th>species</th>\n",
       "    </tr>\n",
       "  </thead>\n",
       "  <tbody>\n",
       "    <tr>\n",
       "      <th>0</th>\n",
       "      <td>5.1</td>\n",
       "      <td>3.5</td>\n",
       "      <td>1.4</td>\n",
       "      <td>0.2</td>\n",
       "      <td>0.0</td>\n",
       "    </tr>\n",
       "    <tr>\n",
       "      <th>1</th>\n",
       "      <td>4.9</td>\n",
       "      <td>3.0</td>\n",
       "      <td>1.4</td>\n",
       "      <td>0.2</td>\n",
       "      <td>0.0</td>\n",
       "    </tr>\n",
       "    <tr>\n",
       "      <th>2</th>\n",
       "      <td>4.7</td>\n",
       "      <td>3.2</td>\n",
       "      <td>1.3</td>\n",
       "      <td>0.2</td>\n",
       "      <td>0.0</td>\n",
       "    </tr>\n",
       "    <tr>\n",
       "      <th>3</th>\n",
       "      <td>4.6</td>\n",
       "      <td>3.1</td>\n",
       "      <td>1.5</td>\n",
       "      <td>0.2</td>\n",
       "      <td>0.0</td>\n",
       "    </tr>\n",
       "    <tr>\n",
       "      <th>4</th>\n",
       "      <td>5.0</td>\n",
       "      <td>3.6</td>\n",
       "      <td>1.4</td>\n",
       "      <td>0.2</td>\n",
       "      <td>0.0</td>\n",
       "    </tr>\n",
       "    <tr>\n",
       "      <th>...</th>\n",
       "      <td>...</td>\n",
       "      <td>...</td>\n",
       "      <td>...</td>\n",
       "      <td>...</td>\n",
       "      <td>...</td>\n",
       "    </tr>\n",
       "    <tr>\n",
       "      <th>145</th>\n",
       "      <td>6.7</td>\n",
       "      <td>3.0</td>\n",
       "      <td>5.2</td>\n",
       "      <td>2.3</td>\n",
       "      <td>2.0</td>\n",
       "    </tr>\n",
       "    <tr>\n",
       "      <th>146</th>\n",
       "      <td>6.3</td>\n",
       "      <td>2.5</td>\n",
       "      <td>5.0</td>\n",
       "      <td>1.9</td>\n",
       "      <td>2.0</td>\n",
       "    </tr>\n",
       "    <tr>\n",
       "      <th>147</th>\n",
       "      <td>6.5</td>\n",
       "      <td>3.0</td>\n",
       "      <td>5.2</td>\n",
       "      <td>2.0</td>\n",
       "      <td>2.0</td>\n",
       "    </tr>\n",
       "    <tr>\n",
       "      <th>148</th>\n",
       "      <td>6.2</td>\n",
       "      <td>3.4</td>\n",
       "      <td>5.4</td>\n",
       "      <td>2.3</td>\n",
       "      <td>2.0</td>\n",
       "    </tr>\n",
       "    <tr>\n",
       "      <th>149</th>\n",
       "      <td>5.9</td>\n",
       "      <td>3.0</td>\n",
       "      <td>5.1</td>\n",
       "      <td>1.8</td>\n",
       "      <td>2.0</td>\n",
       "    </tr>\n",
       "  </tbody>\n",
       "</table>\n",
       "<p>150 rows × 5 columns</p>\n",
       "</div>"
      ],
      "text/plain": [
       "     sepal_length  sepal_width  petal_length  petal_width  species\n",
       "0             5.1          3.5           1.4          0.2      0.0\n",
       "1             4.9          3.0           1.4          0.2      0.0\n",
       "2             4.7          3.2           1.3          0.2      0.0\n",
       "3             4.6          3.1           1.5          0.2      0.0\n",
       "4             5.0          3.6           1.4          0.2      0.0\n",
       "..            ...          ...           ...          ...      ...\n",
       "145           6.7          3.0           5.2          2.3      2.0\n",
       "146           6.3          2.5           5.0          1.9      2.0\n",
       "147           6.5          3.0           5.2          2.0      2.0\n",
       "148           6.2          3.4           5.4          2.3      2.0\n",
       "149           5.9          3.0           5.1          1.8      2.0\n",
       "\n",
       "[150 rows x 5 columns]"
      ]
     },
     "execution_count": 53,
     "metadata": {},
     "output_type": "execute_result"
    }
   ],
   "source": [
    "# Sinche computer can only understand the name so we wil change our \n",
    "# flower name with number using.replace\n",
    "\n",
    "my_df['species'] = my_df['species'].replace('setosa', 0.0)\n",
    "my_df['species'] = my_df['species'].replace('versicolor', 1.0)\n",
    "my_df['species'] = my_df['species'].replace('virginica', 2.0)\n",
    "my_df"
   ]
  },
  {
   "cell_type": "code",
   "execution_count": 54,
   "id": "f72957d1",
   "metadata": {},
   "outputs": [],
   "source": [
    "# Train Test Split! X, y\n",
    "# .drop() we drop the species column from the dataframe, Remaining data store in X matrix\n",
    "# dataframe['Column_name'] this will store species column in y matrix\n",
    "\n",
    "X = my_df.drop('species', axis=1)\n",
    "y = my_df['species']"
   ]
  },
  {
   "cell_type": "code",
   "execution_count": 55,
   "id": "da94827d",
   "metadata": {},
   "outputs": [
    {
     "data": {
      "text/plain": [
       "pandas.core.series.Series"
      ]
     },
     "execution_count": 55,
     "metadata": {},
     "output_type": "execute_result"
    }
   ],
   "source": [
    "# Just to check the type of y matrix \n",
    "type(y)"
   ]
  },
  {
   "cell_type": "code",
   "execution_count": 56,
   "id": "d856525a",
   "metadata": {},
   "outputs": [],
   "source": [
    "# Convert these to numpy arrays because we will use sklearn train_test_split\n",
    "# sklearn module work with numpy arrays only.\n",
    "\n",
    "X = X.values\n",
    "y = y.values"
   ]
  },
  {
   "cell_type": "code",
   "execution_count": 57,
   "id": "07f7241e",
   "metadata": {},
   "outputs": [],
   "source": [
    "# Train Test Split\n",
    "# import the train_Test_Split module and dive the data in training dataset and split datasett\n",
    "\n",
    "from sklearn.model_selection import train_test_split\n",
    "X_train, X_test, y_train, y_test = train_test_split(X, y, test_size=0.2, random_state=41)"
   ]
  },
  {
   "cell_type": "code",
   "execution_count": 58,
   "id": "1bddcbc1",
   "metadata": {},
   "outputs": [],
   "source": [
    "# Convert X features to float tensors  --> After split change numpy array back to tensors\n",
    "\n",
    "X_train = torch.FloatTensor(X_train)\n",
    "X_test = torch.FloatTensor(X_test)"
   ]
  },
  {
   "cell_type": "code",
   "execution_count": 59,
   "id": "0a938e41",
   "metadata": {},
   "outputs": [],
   "source": [
    "# Conver y labels as Long tensors --> After split change numpy array back to tensors\n",
    "y_train = torch.LongTensor(y_train)\n",
    "y_test = torch.LongTensor(y_test)"
   ]
  },
  {
   "cell_type": "code",
   "execution_count": 60,
   "id": "32eaf210",
   "metadata": {},
   "outputs": [],
   "source": [
    "# Set the criterion of model to measure teh error how far off the prediction are from the original \n",
    "\n",
    "criterion = nn.CrossEntropyLoss()\n",
    "\n",
    "# Choose Adam Optimaizeer, lr = learning rate (if error doesn't go down after a bunch of iteration (epoch), lower learning rate)\n",
    "\n",
    "optimizer = torch.optim.Adam(model.parameters(), lr=0.01)"
   ]
  },
  {
   "cell_type": "code",
   "execution_count": 61,
   "id": "9ca51777",
   "metadata": {},
   "outputs": [
    {
     "name": "stdout",
     "output_type": "stream",
     "text": [
      "Epoch : 0 loss : 1.1251550912857056\n",
      "Epoch : 10 loss : 1.0096259117126465\n",
      "Epoch : 20 loss : 0.8157405853271484\n",
      "Epoch : 30 loss : 0.585706353187561\n",
      "Epoch : 40 loss : 0.3999636471271515\n",
      "Epoch : 50 loss : 0.26768800616264343\n",
      "Epoch : 60 loss : 0.17942361533641815\n",
      "Epoch : 70 loss : 0.12151690572500229\n",
      "Epoch : 80 loss : 0.0860118716955185\n",
      "Epoch : 90 loss : 0.06520851701498032\n",
      "Epoch : 100 loss : 0.052865758538246155\n",
      "Epoch : 110 loss : 0.04508381336927414\n",
      "Epoch : 120 loss : 0.03979950770735741\n",
      "Epoch : 130 loss : 0.035970721393823624\n",
      "Epoch : 140 loss : 0.03293720260262489\n",
      "Epoch : 150 loss : 0.030419373884797096\n",
      "Epoch : 160 loss : 0.026795286685228348\n",
      "Epoch : 170 loss : 0.02338256500661373\n",
      "Epoch : 180 loss : 0.020531903952360153\n",
      "Epoch : 190 loss : 0.018495900556445122\n",
      "Epoch : 200 loss : 0.016802584752440453\n",
      "Epoch : 210 loss : 0.015520630404353142\n",
      "Epoch : 220 loss : 0.014499242417514324\n",
      "Epoch : 230 loss : 0.013446717523038387\n",
      "Epoch : 240 loss : 0.01267220638692379\n",
      "Epoch : 250 loss : 0.011893139220774174\n",
      "Epoch : 260 loss : 0.011191372759640217\n",
      "Epoch : 270 loss : 0.01083902083337307\n",
      "Epoch : 280 loss : 0.010237553156912327\n",
      "Epoch : 290 loss : 0.009622786194086075\n"
     ]
    }
   ],
   "source": [
    "# Train our model\n",
    "# Epochs? (one run thru all the training data in our network)\n",
    "\n",
    "epoch = 300\n",
    "losses = []\n",
    "for i in range(epoch):\n",
    "\n",
    "    # Go forward and get a prediction\n",
    "    y_pred = model.forward(X_train) # Get the predicted rseult\n",
    "\n",
    "    # Measure the loss/error, goona be high at first\n",
    "    loss = criterion(y_pred, y_train) # predicted values vs the y_train\n",
    "\n",
    "    # Keep Trach of our losses\n",
    "    losses.append(loss.detach().numpy())\n",
    "\n",
    "    #print every 10 epoch\n",
    "    if i % 10 == 0:\n",
    "        print(f\"Epoch : {i} loss : {loss}\")\n",
    "\n",
    "    # Do some back propagation : Take the error rate of forward propatation and feed it back \n",
    "    # thru the network to fine tune the weights\n",
    "\n",
    "    optimizer.zero_grad()\n",
    "    loss.backward()\n",
    "    optimizer.step()\n",
    "    \n"
   ]
  },
  {
   "cell_type": "code",
   "execution_count": 74,
   "id": "8290d190",
   "metadata": {},
   "outputs": [
    {
     "data": {
      "text/plain": [
       "Text(0.5, 0, 'Epoch')"
      ]
     },
     "execution_count": 74,
     "metadata": {},
     "output_type": "execute_result"
    },
    {
     "data": {
      "image/png": "[encoded data removed]",
      "text/plain": [
       "<Figure size 640x480 with 1 Axes>"
      ]
     },
     "metadata": {},
     "output_type": "display_data"
    }
   ],
   "source": [
    "# Draw the graph of our trained machine model.\n",
    "# Total epoch vs loss, with each epoch loss is reducing that is good\n",
    "\n",
    "plt.plot(range(epoch), losses)\n",
    "plt.ylabel('loss/error')\n",
    "plt.xlabel('Epoch')"
   ]
  },
  {
   "cell_type": "code",
   "execution_count": 78,
   "id": "3522fcc2",
   "metadata": {},
   "outputs": [],
   "source": [
    "# Evaluate MOdel on test data set (validate model on test set)\n",
    "# Check with our model with test data how much loss we have reduce or not \n",
    "\n",
    "with torch.no_grad():                  # Basically turnoff back propgation\n",
    "    y_eval = model.forward(X_test)     # X_Test are features from our test set, y eval will be predictions\n",
    "    loss = criterion(y_eval, y_test)   # Find the loss or error"
   ]
  },
  {
   "cell_type": "code",
   "execution_count": 79,
   "id": "b3ccd0fd",
   "metadata": {},
   "outputs": [
    {
     "data": {
      "text/plain": [
       "tensor(0.2775)"
      ]
     },
     "execution_count": 79,
     "metadata": {},
     "output_type": "execute_result"
    }
   ],
   "source": [
    "loss"
   ]
  },
  {
   "cell_type": "code",
   "execution_count": 80,
   "id": "590d0ab3",
   "metadata": {},
   "outputs": [
    {
     "name": "stdout",
     "output_type": "stream",
     "text": [
      "1 - tensor([-7.3780,  2.7145, 11.3989]) \t 2 \t2\n",
      "2 - tensor([-10.2013,  -0.2203,  18.8066]) \t 2 \t2\n",
      "3 - tensor([-11.5964,   0.5192,  20.3481]) \t 2 \t2\n",
      "4 - tensor([-0.4136, 11.3053, -5.2562]) \t 1 \t1\n",
      "5 - tensor([-9.7768,  1.4952, 16.2473]) \t 2 \t2\n",
      "6 - tensor([  3.3142,  13.8371, -12.1667]) \t 1 \t1\n",
      "7 - tensor([-6.4890,  4.5426,  8.8239]) \t 2 \t2\n",
      "8 - tensor([-0.0898, 11.7302, -6.0479]) \t 1 \t1\n",
      "9 - tensor([-8.2346,  2.9179, 12.6917]) \t 2 \t2\n",
      "10 - tensor([-10.9019,  -0.2847,  20.0561]) \t 2 \t2\n",
      "11 - tensor([-5.7006,  5.2059,  7.1338]) \t 2 \t2\n",
      "12 - tensor([ 29.0044,  19.1034, -46.0197]) \t 0 \t0\n",
      "13 - tensor([ 26.3051,  17.2823, -41.6481]) \t 0 \t0\n",
      "14 - tensor([  5.2769,  12.3274, -13.5509]) \t 1 \t1\n",
      "15 - tensor([ 24.8150,  17.8363, -40.2874]) \t 0 \t0\n",
      "16 - tensor([-4.6368,  6.5560,  4.5806]) \t 2 \t1\n",
      "17 - tensor([ 26.3830,  17.6821, -42.0243]) \t 0 \t0\n",
      "18 - tensor([-6.6959,  3.6572,  9.7190]) \t 1 \t2\n",
      "19 - tensor([ 27.9599,  18.4019, -44.3303]) \t 0 \t0\n",
      "20 - tensor([ 23.0085,  16.1063, -37.0484]) \t 0 \t0\n",
      "21 - tensor([  4.5505,  12.9336, -13.0674]) \t 1 \t1\n",
      "22 - tensor([-10.5312,   0.6175,  18.4573]) \t 2 \t2\n",
      "23 - tensor([ 25.1668,  17.8747, -40.7307]) \t 0 \t0\n",
      "24 - tensor([ 27.9676,  18.3023, -44.2674]) \t 0 \t0\n",
      "25 - tensor([  4.9559,  13.5076, -13.9135]) \t 1 \t1\n",
      "26 - tensor([  3.0803,  13.3104, -11.5555]) \t 1 \t1\n",
      "27 - tensor([-0.9620, 11.1353, -4.2478]) \t 1 \t1\n",
      "28 - tensor([  4.2065,  13.3322, -12.9066]) \t 1 \t1\n",
      "29 - tensor([ 28.7942,  18.9323, -45.6582]) \t 0 \t0\n",
      "30 - tensor([-1.4428, 10.0482, -2.7996]) \t 1 \t1\n",
      "we got 28 correct\n"
     ]
    }
   ],
   "source": [
    "# IN this block we are checking how many prediction are correct.\n",
    "# We change species coloumn back to the name \n",
    "# If test and prediction value machine it increase the correct by 1 \n",
    "\n",
    "correct = 0\n",
    "with torch.no_grad():\n",
    "    for i, data in enumerate(X_test):\n",
    "        y_val = model.forward(data)\n",
    "\n",
    "        if y_test[i] == 0:\n",
    "            x = \"setosa\"\n",
    "        elif y_test[i] == 1:\n",
    "            x = \"Versicolor\"\n",
    "        elif y_test[i] == 2:\n",
    "            x= \"virginica\"\n",
    "        \n",
    "     # Will tell us what type of flower class our network think it is\n",
    "        print(f\"{i+1} - {str(y_val)} \\t {y_test[i]} \\t{y_val.argmax().item()}\")\n",
    "\n",
    "        # Correct or not\n",
    "        if y_val.argmax().item() == y_test[i]:\n",
    "            correct +=1\n",
    "\n",
    "print(f\"we got {correct} correct\")"
   ]
  },
  {
   "cell_type": "code",
   "execution_count": 81,
   "id": "a2703463",
   "metadata": {},
   "outputs": [],
   "source": [
    "# Give the randome tensor and then check it can predict or not\n",
    "\n",
    "new_iris = torch.tensor([4.7, 3.2, 1.3, 0.2])"
   ]
  },
  {
   "cell_type": "code",
   "execution_count": null,
   "id": "45ab4468",
   "metadata": {},
   "outputs": [
    {
     "name": "stdout",
     "output_type": "stream",
     "text": [
      "tensor([ 27.9676,  18.3023, -44.2674])\n"
     ]
    }
   ],
   "source": [
    "# Here who every have i high value will be result for example\n",
    "# here 27.96 high chances so that will be our predicted result.\n",
    "\n",
    "with torch.no_grad():\n",
    "    print(model(new_iris))"
   ]
  },
  {
   "cell_type": "code",
   "execution_count": 84,
   "id": "cd85c545",
   "metadata": {},
   "outputs": [],
   "source": [
    "newer_iris = torch.tensor([5.9, 3.0, 5.1, 1.8])"
   ]
  },
  {
   "cell_type": "code",
   "execution_count": 83,
   "id": "9f2b5ffc",
   "metadata": {},
   "outputs": [
    {
     "name": "stdout",
     "output_type": "stream",
     "text": [
      "tensor([-7.4014,  2.8249, 11.3840])\n"
     ]
    }
   ],
   "source": [
    "with torch.no_grad():\n",
    "    print(model(newer_iris))"
   ]
  },
  {
   "cell_type": "code",
   "execution_count": 87,
   "id": "10693b9a",
   "metadata": {},
   "outputs": [],
   "source": [
    "## Save our NN model so we can use in the future.  \n",
    "\n",
    "torch.save(model.state_dict(), 'iris_dataset_train_model.pt')"
   ]
  },
  {
   "cell_type": "code",
   "execution_count": 88,
   "id": "07438809",
   "metadata": {},
   "outputs": [
    {
     "data": {
      "text/plain": [
       "<All keys matched successfully>"
      ]
     },
     "execution_count": 88,
     "metadata": {},
     "output_type": "execute_result"
    }
   ],
   "source": [
    "# Load the saved model\n",
    "\n",
    "new_model = Model()\n",
    "new_model.load_state_dict(torch.load('iris_dataset_train_model.pt'))"
   ]
  },
  {
   "cell_type": "code",
   "execution_count": 89,
   "id": "4c793be4",
   "metadata": {},
   "outputs": [
    {
     "data": {
      "text/plain": [
       "Model(\n",
       "  (fc1): Linear(in_features=4, out_features=8, bias=True)\n",
       "  (fc2): Linear(in_features=8, out_features=9, bias=True)\n",
       "  (out): Linear(in_features=9, out_features=3, bias=True)\n",
       ")"
      ]
     },
     "execution_count": 89,
     "metadata": {},
     "output_type": "execute_result"
    }
   ],
   "source": [
    "# Make sure it loaded correctly { Check all the hideen layers }\n",
    "new_model.eval()"
   ]
  },
  {
   "cell_type": "code",
   "execution_count": 92,
   "id": "ef008a39",
   "metadata": {},
   "outputs": [],
   "source": [
    "# Testing the model  \n",
    "\n",
    "rand_iris_set = torch.tensor([5.9, 3.1, 5.2, 1.8])"
   ]
  },
  {
   "cell_type": "code",
   "execution_count": 93,
   "id": "f35346a6",
   "metadata": {},
   "outputs": [
    {
     "name": "stdout",
     "output_type": "stream",
     "text": [
      "tensor([-7.5692,  2.6275, 11.7867])\n"
     ]
    }
   ],
   "source": [
    "with torch.no_grad():\n",
    "    print(new_model(rand_iris_set))"
   ]
  },
  {
   "cell_type": "code",
   "execution_count": null,
   "id": "2d02981d",
   "metadata": {},
   "outputs": [],
   "source": []
  }
 ],
 "metadata": {
  "kernelspec": {
   "display_name": "Python 3",
   "language": "python",
   "name": "python3"
  },
  "language_info": {
   "codemirror_mode": {
    "name": "ipython",
    "version": 3
   },
   "file_extension": ".py",
   "mimetype": "text/x-python",
   "name": "python",
   "nbconvert_exporter": "python",
   "pygments_lexer": "ipython3",
   "version": "3.13.2"
  }
 },
 "nbformat": 4,
 "nbformat_minor": 5
}
